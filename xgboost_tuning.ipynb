{
 "cells": [
  {
   "cell_type": "code",
   "execution_count": 1,
   "metadata": {
    "colab": {
     "base_uri": "https://localhost:8080/",
     "height": 35
    },
    "colab_type": "code",
    "executionInfo": {
     "elapsed": 2037,
     "status": "ok",
     "timestamp": 1571691605159,
     "user": {
      "displayName": "Liu Clover",
      "photoUrl": "",
      "userId": "01707038003287610841"
     },
     "user_tz": 240
    },
    "id": "eKX6LF1yIrVK",
    "outputId": "b27f40b3-0625-49c6-8a95-a93d66672d96"
   },
   "outputs": [],
   "source": [
    "import pandas as pd\n",
    "import os\n",
    "import xgboost as xgb\n",
    "import numpy as np\n",
    "from sklearn.model_selection import train_test_split\n",
    "from sklearn.metrics import f1_score, classification_report,confusion_matrix, accuracy_score\n",
    "\n",
    "from sklearn.metrics import roc_auc_score\n",
    "from sklearn.metrics import roc_curve\n",
    "from sklearn.metrics import auc\n",
    "\n",
    "\n",
    "def warn(*args, **kwargs):\n",
    "    pass\n",
    "import warnings\n",
    "warnings.warn = warn\n",
    "\n",
    "os.chdir('C:\\insta\\data')\n",
    "#from google.colab import drive\n",
    "#drive.mount('/content/gdrive')"
   ]
  },
  {
   "cell_type": "markdown",
   "metadata": {
    "colab_type": "text",
    "id": "XO-b7c7NIdji"
   },
   "source": [
    "## Xgboost"
   ]
  },
  {
   "cell_type": "markdown",
   "metadata": {
    "colab_type": "text",
    "id": "Bu2uek5pISgO"
   },
   "source": [
    "### Model building"
   ]
  },
  {
   "cell_type": "markdown",
   "metadata": {
    "colab_type": "text",
    "id": "1VQqIts9XBmZ"
   },
   "source": [
    "#### set parameters for model "
   ]
  },
  {
   "cell_type": "code",
   "execution_count": 2,
   "metadata": {
    "colab": {},
    "colab_type": "code",
    "id": "9xaasu9pViS6"
   },
   "outputs": [],
   "source": [
    "params = {}\n",
    "params[\"silent\"] = 1\n",
    "params[\"objective\"] = \"binary:logistic\"\n",
    "params['eval_metric'] = 'auc'\n",
    "params[\"eta\"] = 0.19\n",
    "params[\"subsample\"] = 0.8\n",
    "params[\"colsample_bytree\"] = 0.8\n",
    "params[\"min_child_weight\"] = 10\n",
    "params[\"max_depth\"] = 10\n",
    "params[\"max_leaf_nodes\"] = 100\n",
    "params[\"scale_pos_weight\"] = 1\n",
    "params[\"nthread \"] = 8\n",
    "params[\"seed\"] = 1000\n",
    "plst = list(params.items())\n",
    "\n",
    "num_rounds = 10\n",
    "\n",
    "cutoff = 0.22\n",
    "\n",
    "\n"
   ]
  },
  {
   "cell_type": "markdown",
   "metadata": {
    "colab_type": "text",
    "id": "K3C9S-BGQ59K"
   },
   "source": [
    "#### Use Training set for train and test"
   ]
  },
  {
   "cell_type": "code",
   "execution_count": 3,
   "metadata": {
    "colab": {
     "base_uri": "https://localhost:8080/",
     "height": 253
    },
    "colab_type": "code",
    "executionInfo": {
     "elapsed": 89319,
     "status": "ok",
     "timestamp": 1571691692463,
     "user": {
      "displayName": "Liu Clover",
      "photoUrl": "",
      "userId": "01707038003287610841"
     },
     "user_tz": 240
    },
    "id": "NeFpDJRoIiGV",
    "outputId": "55d8c74c-298f-4d27-aeb9-549ec44acbcf"
   },
   "outputs": [
    {
     "data": {
      "text/html": [
       "<div>\n",
       "<style scoped>\n",
       "    .dataframe tbody tr th:only-of-type {\n",
       "        vertical-align: middle;\n",
       "    }\n",
       "\n",
       "    .dataframe tbody tr th {\n",
       "        vertical-align: top;\n",
       "    }\n",
       "\n",
       "    .dataframe thead th {\n",
       "        text-align: right;\n",
       "    }\n",
       "</style>\n",
       "<table border=\"1\" class=\"dataframe\">\n",
       "  <thead>\n",
       "    <tr style=\"text-align: right;\">\n",
       "      <th></th>\n",
       "      <th></th>\n",
       "      <th>user_num_orders</th>\n",
       "      <th>user_num_prods</th>\n",
       "      <th>user_num_distinct_prods</th>\n",
       "      <th>user_avg_num_prods</th>\n",
       "      <th>user_avg_interval</th>\n",
       "      <th>user_dow_std</th>\n",
       "      <th>user_hour_std</th>\n",
       "      <th>user_dow_median</th>\n",
       "      <th>user_hour_median</th>\n",
       "      <th>user_dow_most</th>\n",
       "      <th>...</th>\n",
       "      <th>prod_dow_median</th>\n",
       "      <th>prod_hour_median</th>\n",
       "      <th>prod_dow_most</th>\n",
       "      <th>prod_hour_most</th>\n",
       "      <th>order_dow</th>\n",
       "      <th>order_hour_of_day</th>\n",
       "      <th>days_since_prior_order</th>\n",
       "      <th>t_dow_orders</th>\n",
       "      <th>t_hour_orders</th>\n",
       "      <th>reordered</th>\n",
       "    </tr>\n",
       "    <tr>\n",
       "      <th>user_id</th>\n",
       "      <th>product_id</th>\n",
       "      <th></th>\n",
       "      <th></th>\n",
       "      <th></th>\n",
       "      <th></th>\n",
       "      <th></th>\n",
       "      <th></th>\n",
       "      <th></th>\n",
       "      <th></th>\n",
       "      <th></th>\n",
       "      <th></th>\n",
       "      <th></th>\n",
       "      <th></th>\n",
       "      <th></th>\n",
       "      <th></th>\n",
       "      <th></th>\n",
       "      <th></th>\n",
       "      <th></th>\n",
       "      <th></th>\n",
       "      <th></th>\n",
       "      <th></th>\n",
       "      <th></th>\n",
       "    </tr>\n",
       "  </thead>\n",
       "  <tbody>\n",
       "    <tr>\n",
       "      <td>1</td>\n",
       "      <td>196</td>\n",
       "      <td>10</td>\n",
       "      <td>59</td>\n",
       "      <td>18</td>\n",
       "      <td>5.900000</td>\n",
       "      <td>17.600</td>\n",
       "      <td>1.270</td>\n",
       "      <td>3.592</td>\n",
       "      <td>2.5</td>\n",
       "      <td>8.5</td>\n",
       "      <td>1</td>\n",
       "      <td>...</td>\n",
       "      <td>3.0</td>\n",
       "      <td>12.0</td>\n",
       "      <td>1</td>\n",
       "      <td>10</td>\n",
       "      <td>4</td>\n",
       "      <td>8</td>\n",
       "      <td>14.0</td>\n",
       "      <td>3787215</td>\n",
       "      <td>1719973</td>\n",
       "      <td>1.0</td>\n",
       "    </tr>\n",
       "    <tr>\n",
       "      <td>11192</td>\n",
       "      <td>196</td>\n",
       "      <td>21</td>\n",
       "      <td>192</td>\n",
       "      <td>37</td>\n",
       "      <td>9.142857</td>\n",
       "      <td>14.520</td>\n",
       "      <td>1.641</td>\n",
       "      <td>4.890</td>\n",
       "      <td>3.0</td>\n",
       "      <td>13.0</td>\n",
       "      <td>3</td>\n",
       "      <td>...</td>\n",
       "      <td>3.0</td>\n",
       "      <td>12.0</td>\n",
       "      <td>1</td>\n",
       "      <td>10</td>\n",
       "      <td>4</td>\n",
       "      <td>8</td>\n",
       "      <td>30.0</td>\n",
       "      <td>3787215</td>\n",
       "      <td>1719973</td>\n",
       "      <td>0.0</td>\n",
       "    </tr>\n",
       "    <tr>\n",
       "      <td>12100</td>\n",
       "      <td>196</td>\n",
       "      <td>7</td>\n",
       "      <td>19</td>\n",
       "      <td>4</td>\n",
       "      <td>2.714286</td>\n",
       "      <td>20.280</td>\n",
       "      <td>0.951</td>\n",
       "      <td>3.055</td>\n",
       "      <td>4.0</td>\n",
       "      <td>15.0</td>\n",
       "      <td>4</td>\n",
       "      <td>...</td>\n",
       "      <td>3.0</td>\n",
       "      <td>12.0</td>\n",
       "      <td>1</td>\n",
       "      <td>10</td>\n",
       "      <td>4</td>\n",
       "      <td>8</td>\n",
       "      <td>22.0</td>\n",
       "      <td>3787215</td>\n",
       "      <td>1719973</td>\n",
       "      <td>1.0</td>\n",
       "    </tr>\n",
       "    <tr>\n",
       "      <td>25303</td>\n",
       "      <td>196</td>\n",
       "      <td>9</td>\n",
       "      <td>275</td>\n",
       "      <td>141</td>\n",
       "      <td>30.555556</td>\n",
       "      <td>7.223</td>\n",
       "      <td>2.049</td>\n",
       "      <td>7.380</td>\n",
       "      <td>1.0</td>\n",
       "      <td>8.0</td>\n",
       "      <td>1</td>\n",
       "      <td>...</td>\n",
       "      <td>3.0</td>\n",
       "      <td>12.0</td>\n",
       "      <td>1</td>\n",
       "      <td>10</td>\n",
       "      <td>4</td>\n",
       "      <td>8</td>\n",
       "      <td>30.0</td>\n",
       "      <td>3787215</td>\n",
       "      <td>1719973</td>\n",
       "      <td>0.0</td>\n",
       "    </tr>\n",
       "    <tr>\n",
       "      <td>26923</td>\n",
       "      <td>196</td>\n",
       "      <td>55</td>\n",
       "      <td>195</td>\n",
       "      <td>21</td>\n",
       "      <td>3.545455</td>\n",
       "      <td>6.363</td>\n",
       "      <td>1.067</td>\n",
       "      <td>2.215</td>\n",
       "      <td>1.0</td>\n",
       "      <td>11.0</td>\n",
       "      <td>1</td>\n",
       "      <td>...</td>\n",
       "      <td>3.0</td>\n",
       "      <td>12.0</td>\n",
       "      <td>1</td>\n",
       "      <td>10</td>\n",
       "      <td>4</td>\n",
       "      <td>8</td>\n",
       "      <td>10.0</td>\n",
       "      <td>3787215</td>\n",
       "      <td>1719973</td>\n",
       "      <td>0.0</td>\n",
       "    </tr>\n",
       "  </tbody>\n",
       "</table>\n",
       "<p>5 rows × 45 columns</p>\n",
       "</div>"
      ],
      "text/plain": [
       "                    user_num_orders  user_num_prods  user_num_distinct_prods  \\\n",
       "user_id product_id                                                             \n",
       "1       196                      10              59                       18   \n",
       "11192   196                      21             192                       37   \n",
       "12100   196                       7              19                        4   \n",
       "25303   196                       9             275                      141   \n",
       "26923   196                      55             195                       21   \n",
       "\n",
       "                    user_avg_num_prods  user_avg_interval  user_dow_std  \\\n",
       "user_id product_id                                                        \n",
       "1       196                   5.900000             17.600         1.270   \n",
       "11192   196                   9.142857             14.520         1.641   \n",
       "12100   196                   2.714286             20.280         0.951   \n",
       "25303   196                  30.555556              7.223         2.049   \n",
       "26923   196                   3.545455              6.363         1.067   \n",
       "\n",
       "                    user_hour_std  user_dow_median  user_hour_median  \\\n",
       "user_id product_id                                                     \n",
       "1       196                 3.592              2.5               8.5   \n",
       "11192   196                 4.890              3.0              13.0   \n",
       "12100   196                 3.055              4.0              15.0   \n",
       "25303   196                 7.380              1.0               8.0   \n",
       "26923   196                 2.215              1.0              11.0   \n",
       "\n",
       "                    user_dow_most  ...  prod_dow_median  prod_hour_median  \\\n",
       "user_id product_id                 ...                                      \n",
       "1       196                     1  ...              3.0              12.0   \n",
       "11192   196                     3  ...              3.0              12.0   \n",
       "12100   196                     4  ...              3.0              12.0   \n",
       "25303   196                     1  ...              3.0              12.0   \n",
       "26923   196                     1  ...              3.0              12.0   \n",
       "\n",
       "                    prod_dow_most  prod_hour_most  order_dow  \\\n",
       "user_id product_id                                             \n",
       "1       196                     1              10          4   \n",
       "11192   196                     1              10          4   \n",
       "12100   196                     1              10          4   \n",
       "25303   196                     1              10          4   \n",
       "26923   196                     1              10          4   \n",
       "\n",
       "                    order_hour_of_day  days_since_prior_order  t_dow_orders  \\\n",
       "user_id product_id                                                            \n",
       "1       196                         8                    14.0       3787215   \n",
       "11192   196                         8                    30.0       3787215   \n",
       "12100   196                         8                    22.0       3787215   \n",
       "25303   196                         8                    30.0       3787215   \n",
       "26923   196                         8                    10.0       3787215   \n",
       "\n",
       "                    t_hour_orders  reordered  \n",
       "user_id product_id                            \n",
       "1       196               1719973        1.0  \n",
       "11192   196               1719973        0.0  \n",
       "12100   196               1719973        1.0  \n",
       "25303   196               1719973        0.0  \n",
       "26923   196               1719973        0.0  \n",
       "\n",
       "[5 rows x 45 columns]"
      ]
     },
     "execution_count": 3,
     "metadata": {},
     "output_type": "execute_result"
    }
   ],
   "source": [
    "#train = pd.read_csv(\"gdrive/My Drive/Colab Notebooks/instacart/train.csv\")\n",
    "train = pd.read_csv(\"train.csv\")\n",
    "train = train.set_index(['user_id', 'product_id'])\n",
    "\n",
    "X = train.drop('reordered', axis=1)\n",
    "y = train.reordered.astype(np.int16)\n",
    "\n",
    "train.head(5)\n",
    "#y.head(5)     "
   ]
  },
  {
   "cell_type": "code",
   "execution_count": 4,
   "metadata": {
    "colab": {},
    "colab_type": "code",
    "id": "8yKoebEgWZos"
   },
   "outputs": [],
   "source": [
    "#train.shape\n",
    "#del train"
   ]
  },
  {
   "cell_type": "code",
   "execution_count": null,
   "metadata": {
    "colab": {},
    "colab_type": "code",
    "id": "3w93owZXRY9d"
   },
   "outputs": [],
   "source": []
  },
  {
   "cell_type": "markdown",
   "metadata": {
    "colab_type": "text",
    "id": "S60idUKlly61"
   },
   "source": [
    "### Use train data to test model"
   ]
  },
  {
   "cell_type": "code",
   "execution_count": 5,
   "metadata": {
    "colab": {},
    "colab_type": "code",
    "id": "ElMQVzbEVRer"
   },
   "outputs": [],
   "source": [
    "#splitting train dataset into train and test\n",
    "X_train, X_test, y_train, y_test = train_test_split(X, y, test_size = 0.2, random_state = 0)\n",
    "\n",
    "xgtrain = xgb.DMatrix(X_train, label = y_train)\n",
    "xgtest = xgb.DMatrix(X_test, label = y_test)\n",
    "\n",
    "model = xgb.train(plst, xgtrain, num_rounds)"
   ]
  },
  {
   "cell_type": "markdown",
   "metadata": {
    "colab_type": "text",
    "id": "WneF6eYiXS_E"
   },
   "source": [
    "#### predictions"
   ]
  },
  {
   "cell_type": "code",
   "execution_count": 6,
   "metadata": {
    "colab": {
     "base_uri": "https://localhost:8080/",
     "height": 35
    },
    "colab_type": "code",
    "executionInfo": {
     "elapsed": 568489,
     "status": "ok",
     "timestamp": 1571683577286,
     "user": {
      "displayName": "Liu Clover",
      "photoUrl": "",
      "userId": "01707038003287610841"
     },
     "user_tz": 240
    },
    "id": "qocCtFFcWUKH",
    "outputId": "a3b91a81-cb87-48fd-9276-e65b6eabbd41"
   },
   "outputs": [
    {
     "data": {
      "text/plain": [
       "array([1, 0, 0, ..., 0, 0, 0], dtype=int16)"
      ]
     },
     "execution_count": 6,
     "metadata": {},
     "output_type": "execute_result"
    }
   ],
   "source": [
    "y_pred = model.predict(xgtest)\n",
    "\n",
    "y_pred[y_pred >= cutoff] = 1\n",
    "y_pred[y_pred < cutoff] = 0\n",
    "\n",
    "y_pred = y_pred.astype(np.int16)\n",
    "y_pred"
   ]
  },
  {
   "cell_type": "code",
   "execution_count": 7,
   "metadata": {
    "colab": {
     "base_uri": "https://localhost:8080/",
     "height": 35
    },
    "colab_type": "code",
    "executionInfo": {
     "elapsed": 568894,
     "status": "ok",
     "timestamp": 1571683577703,
     "user": {
      "displayName": "Liu Clover",
      "photoUrl": "",
      "userId": "01707038003287610841"
     },
     "user_tz": 240
    },
    "id": "ivIW7VaTYdMm",
    "outputId": "2bc95536-0171-4c7f-c784-2d87b1306017"
   },
   "outputs": [
    {
     "name": "stdout",
     "output_type": "stream",
     "text": [
      "F1 Score: 0.43469087294517017\n"
     ]
    }
   ],
   "source": [
    "print('F1 Score: {}'.format(f1_score(y_pred, y_test)))"
   ]
  },
  {
   "cell_type": "code",
   "execution_count": 8,
   "metadata": {
    "colab": {
     "base_uri": "https://localhost:8080/",
     "height": 173
    },
    "colab_type": "code",
    "executionInfo": {
     "elapsed": 571352,
     "status": "ok",
     "timestamp": 1571683580170,
     "user": {
      "displayName": "Liu Clover",
      "photoUrl": "",
      "userId": "01707038003287610841"
     },
     "user_tz": 240
    },
    "id": "kmoTg3DGY9Dv",
    "outputId": "603019fc-ed71-458f-b53d-49180dc0e82d"
   },
   "outputs": [
    {
     "name": "stdout",
     "output_type": "stream",
     "text": [
      "              precision    recall  f1-score   support\n",
      "\n",
      "           0       0.89      0.95      0.92   1434266\n",
      "           1       0.56      0.36      0.43    260667\n",
      "\n",
      "    accuracy                           0.86   1694933\n",
      "   macro avg       0.72      0.65      0.68   1694933\n",
      "weighted avg       0.84      0.86      0.84   1694933\n",
      "\n"
     ]
    }
   ],
   "source": [
    "print(classification_report(y_pred, y_test))"
   ]
  },
  {
   "cell_type": "code",
   "execution_count": 9,
   "metadata": {
    "colab": {
     "base_uri": "https://localhost:8080/",
     "height": 52
    },
    "colab_type": "code",
    "executionInfo": {
     "elapsed": 573462,
     "status": "ok",
     "timestamp": 1571683582293,
     "user": {
      "displayName": "Liu Clover",
      "photoUrl": "",
      "userId": "01707038003287610841"
     },
     "user_tz": 240
    },
    "id": "Yy_UF1OiY-eW",
    "outputId": "78441493-b6ab-454f-ba95-70e30f7c7c4b"
   },
   "outputs": [
    {
     "name": "stdout",
     "output_type": "stream",
     "text": [
      "[[1361087  167957]\n",
      " [  73179   92710]]\n"
     ]
    }
   ],
   "source": [
    "print(confusion_matrix(y_test,y_pred))"
   ]
  },
  {
   "cell_type": "code",
   "execution_count": 10,
   "metadata": {
    "colab": {
     "base_uri": "https://localhost:8080/",
     "height": 35
    },
    "colab_type": "code",
    "executionInfo": {
     "elapsed": 573459,
     "status": "ok",
     "timestamp": 1571683582297,
     "user": {
      "displayName": "Liu Clover",
      "photoUrl": "",
      "userId": "01707038003287610841"
     },
     "user_tz": 240
    },
    "id": "HoxgR_wMY_1b",
    "outputId": "3db33ce3-fe28-42ec-d721-fa215113754d",
    "scrolled": true
   },
   "outputs": [
    {
     "name": "stdout",
     "output_type": "stream",
     "text": [
      "0.8577312495538172\n"
     ]
    }
   ],
   "source": [
    "print(accuracy_score(y_pred, y_test))"
   ]
  },
  {
   "cell_type": "code",
   "execution_count": 11,
   "metadata": {
    "colab": {},
    "colab_type": "code",
    "id": "mIH_r17pRWo8"
   },
   "outputs": [
    {
     "data": {
      "image/png": "[encoded data removed]",
      "text/plain": [
       "<Figure size 432x288 with 1 Axes>"
      ]
     },
     "metadata": {
      "needs_background": "light"
     },
     "output_type": "display_data"
    }
   ],
   "source": [
    "fpr, tpr, _ = roc_curve(y_test, y_pred)\n",
    "auc = auc(fpr, tpr)\n",
    "\n",
    "import matplotlib.pyplot as plt\n",
    "%matplotlib inline\n",
    "\n",
    "plt.plot(fpr, tpr,label = \"auc = \" + str(format(auc,'.6f')))\n",
    "plt.legend(loc = 4)\n",
    "plt.plot([0, 1], [0, 1], color='navy', lw = 2, linestyle = '--')\n",
    "plt.xlim([0.0, 1.0])\n",
    "plt.ylim([0.0, 1.05])\n",
    "plt.xlabel('False Positive Rate')\n",
    "plt.ylabel('True Positive Rate')\n",
    "plt.title('XGboost receiver operating characteristic (ROC)')\n",
    "plt.show()"
   ]
  },
  {
   "cell_type": "code",
   "execution_count": 12,
   "metadata": {
    "scrolled": true
   },
   "outputs": [
    {
     "data": {
      "image/png": "[encoded data removed]",
      "text/plain": [
       "<Figure size 432x288 with 1 Axes>"
      ]
     },
     "metadata": {
      "needs_background": "light"
     },
     "output_type": "display_data"
    }
   ],
   "source": [
    "ax = xgb.plot_importance(model, importance_type = \"gain\", max_num_features = 10, height = 0.5, show_values = True, color = \"orange\")\n",
    "fig = ax.figure\n",
    "fig.set_size_inches(6, 4)\n",
    "plt.title('XGboost TOP 10 Important Features')\n",
    "#fig.savefig('features.png')\n",
    "plt.show()"
   ]
  },
  {
   "cell_type": "code",
   "execution_count": null,
   "metadata": {},
   "outputs": [],
   "source": []
  },
  {
   "cell_type": "markdown",
   "metadata": {
    "colab_type": "text",
    "id": "ldfTz4EZmE6V"
   },
   "source": [
    "### apply model on test data"
   ]
  },
  {
   "cell_type": "code",
   "execution_count": 13,
   "metadata": {
    "colab": {
     "base_uri": "https://localhost:8080/",
     "height": 406
    },
    "colab_type": "code",
    "executionInfo": {
     "elapsed": 45410,
     "status": "ok",
     "timestamp": 1571691779170,
     "user": {
      "displayName": "Liu Clover",
      "photoUrl": "",
      "userId": "01707038003287610841"
     },
     "user_tz": 240
    },
    "id": "_TUaIOFemams",
    "outputId": "a874b542-2258-421b-dd46-58b3143d427c"
   },
   "outputs": [
    {
     "data": {
      "text/html": [
       "<div>\n",
       "<style scoped>\n",
       "    .dataframe tbody tr th:only-of-type {\n",
       "        vertical-align: middle;\n",
       "    }\n",
       "\n",
       "    .dataframe tbody tr th {\n",
       "        vertical-align: top;\n",
       "    }\n",
       "\n",
       "    .dataframe thead th {\n",
       "        text-align: right;\n",
       "    }\n",
       "</style>\n",
       "<table border=\"1\" class=\"dataframe\">\n",
       "  <thead>\n",
       "    <tr style=\"text-align: right;\">\n",
       "      <th></th>\n",
       "      <th></th>\n",
       "      <th>user_num_orders</th>\n",
       "      <th>user_num_prods</th>\n",
       "      <th>user_num_distinct_prods</th>\n",
       "      <th>user_avg_num_prods</th>\n",
       "      <th>user_avg_interval</th>\n",
       "      <th>user_dow_std</th>\n",
       "      <th>user_hour_std</th>\n",
       "      <th>user_dow_median</th>\n",
       "      <th>user_hour_median</th>\n",
       "      <th>user_dow_most</th>\n",
       "      <th>...</th>\n",
       "      <th>prod_hour_std</th>\n",
       "      <th>prod_dow_median</th>\n",
       "      <th>prod_hour_median</th>\n",
       "      <th>prod_dow_most</th>\n",
       "      <th>prod_hour_most</th>\n",
       "      <th>order_dow</th>\n",
       "      <th>order_hour_of_day</th>\n",
       "      <th>days_since_prior_order</th>\n",
       "      <th>t_dow_orders</th>\n",
       "      <th>t_hour_orders</th>\n",
       "    </tr>\n",
       "    <tr>\n",
       "      <th>user_id</th>\n",
       "      <th>product_id</th>\n",
       "      <th></th>\n",
       "      <th></th>\n",
       "      <th></th>\n",
       "      <th></th>\n",
       "      <th></th>\n",
       "      <th></th>\n",
       "      <th></th>\n",
       "      <th></th>\n",
       "      <th></th>\n",
       "      <th></th>\n",
       "      <th></th>\n",
       "      <th></th>\n",
       "      <th></th>\n",
       "      <th></th>\n",
       "      <th></th>\n",
       "      <th></th>\n",
       "      <th></th>\n",
       "      <th></th>\n",
       "      <th></th>\n",
       "      <th></th>\n",
       "      <th></th>\n",
       "    </tr>\n",
       "  </thead>\n",
       "  <tbody>\n",
       "    <tr>\n",
       "      <td>8942</td>\n",
       "      <td>196</td>\n",
       "      <td>4</td>\n",
       "      <td>56</td>\n",
       "      <td>38</td>\n",
       "      <td>14.000000</td>\n",
       "      <td>21.250</td>\n",
       "      <td>1.414</td>\n",
       "      <td>4.360</td>\n",
       "      <td>3.5</td>\n",
       "      <td>9.5</td>\n",
       "      <td>4</td>\n",
       "      <td>...</td>\n",
       "      <td>3.727</td>\n",
       "      <td>3.0</td>\n",
       "      <td>12.0</td>\n",
       "      <td>1</td>\n",
       "      <td>10</td>\n",
       "      <td>4</td>\n",
       "      <td>8</td>\n",
       "      <td>30.0</td>\n",
       "      <td>3787215</td>\n",
       "      <td>1719973</td>\n",
       "    </tr>\n",
       "    <tr>\n",
       "      <td>24280</td>\n",
       "      <td>196</td>\n",
       "      <td>18</td>\n",
       "      <td>27</td>\n",
       "      <td>14</td>\n",
       "      <td>1.500000</td>\n",
       "      <td>17.390</td>\n",
       "      <td>1.382</td>\n",
       "      <td>2.635</td>\n",
       "      <td>2.0</td>\n",
       "      <td>13.0</td>\n",
       "      <td>2</td>\n",
       "      <td>...</td>\n",
       "      <td>3.727</td>\n",
       "      <td>3.0</td>\n",
       "      <td>12.0</td>\n",
       "      <td>1</td>\n",
       "      <td>10</td>\n",
       "      <td>4</td>\n",
       "      <td>8</td>\n",
       "      <td>2.0</td>\n",
       "      <td>3787215</td>\n",
       "      <td>1719973</td>\n",
       "    </tr>\n",
       "    <tr>\n",
       "      <td>34207</td>\n",
       "      <td>196</td>\n",
       "      <td>3</td>\n",
       "      <td>5</td>\n",
       "      <td>4</td>\n",
       "      <td>1.666667</td>\n",
       "      <td>3.000</td>\n",
       "      <td>1.000</td>\n",
       "      <td>2.518</td>\n",
       "      <td>3.0</td>\n",
       "      <td>9.0</td>\n",
       "      <td>2</td>\n",
       "      <td>...</td>\n",
       "      <td>3.727</td>\n",
       "      <td>3.0</td>\n",
       "      <td>12.0</td>\n",
       "      <td>1</td>\n",
       "      <td>10</td>\n",
       "      <td>4</td>\n",
       "      <td>8</td>\n",
       "      <td>21.0</td>\n",
       "      <td>3787215</td>\n",
       "      <td>1719973</td>\n",
       "    </tr>\n",
       "    <tr>\n",
       "      <td>42970</td>\n",
       "      <td>196</td>\n",
       "      <td>3</td>\n",
       "      <td>16</td>\n",
       "      <td>12</td>\n",
       "      <td>5.333333</td>\n",
       "      <td>19.670</td>\n",
       "      <td>0.577</td>\n",
       "      <td>7.023</td>\n",
       "      <td>5.0</td>\n",
       "      <td>16.0</td>\n",
       "      <td>5</td>\n",
       "      <td>...</td>\n",
       "      <td>3.727</td>\n",
       "      <td>3.0</td>\n",
       "      <td>12.0</td>\n",
       "      <td>1</td>\n",
       "      <td>10</td>\n",
       "      <td>4</td>\n",
       "      <td>8</td>\n",
       "      <td>30.0</td>\n",
       "      <td>3787215</td>\n",
       "      <td>1719973</td>\n",
       "    </tr>\n",
       "    <tr>\n",
       "      <td>60073</td>\n",
       "      <td>196</td>\n",
       "      <td>35</td>\n",
       "      <td>365</td>\n",
       "      <td>126</td>\n",
       "      <td>10.428571</td>\n",
       "      <td>9.800</td>\n",
       "      <td>2.693</td>\n",
       "      <td>4.668</td>\n",
       "      <td>1.0</td>\n",
       "      <td>17.0</td>\n",
       "      <td>0</td>\n",
       "      <td>...</td>\n",
       "      <td>3.727</td>\n",
       "      <td>3.0</td>\n",
       "      <td>12.0</td>\n",
       "      <td>1</td>\n",
       "      <td>10</td>\n",
       "      <td>4</td>\n",
       "      <td>8</td>\n",
       "      <td>11.0</td>\n",
       "      <td>3787215</td>\n",
       "      <td>1719973</td>\n",
       "    </tr>\n",
       "    <tr>\n",
       "      <td>65187</td>\n",
       "      <td>196</td>\n",
       "      <td>16</td>\n",
       "      <td>95</td>\n",
       "      <td>26</td>\n",
       "      <td>5.937500</td>\n",
       "      <td>20.060</td>\n",
       "      <td>1.408</td>\n",
       "      <td>2.834</td>\n",
       "      <td>3.0</td>\n",
       "      <td>11.0</td>\n",
       "      <td>2</td>\n",
       "      <td>...</td>\n",
       "      <td>3.727</td>\n",
       "      <td>3.0</td>\n",
       "      <td>12.0</td>\n",
       "      <td>1</td>\n",
       "      <td>10</td>\n",
       "      <td>4</td>\n",
       "      <td>8</td>\n",
       "      <td>30.0</td>\n",
       "      <td>3787215</td>\n",
       "      <td>1719973</td>\n",
       "    </tr>\n",
       "    <tr>\n",
       "      <td>70669</td>\n",
       "      <td>196</td>\n",
       "      <td>48</td>\n",
       "      <td>519</td>\n",
       "      <td>132</td>\n",
       "      <td>10.812500</td>\n",
       "      <td>6.105</td>\n",
       "      <td>2.184</td>\n",
       "      <td>3.088</td>\n",
       "      <td>3.0</td>\n",
       "      <td>13.0</td>\n",
       "      <td>5</td>\n",
       "      <td>...</td>\n",
       "      <td>3.727</td>\n",
       "      <td>3.0</td>\n",
       "      <td>12.0</td>\n",
       "      <td>1</td>\n",
       "      <td>10</td>\n",
       "      <td>4</td>\n",
       "      <td>8</td>\n",
       "      <td>2.0</td>\n",
       "      <td>3787215</td>\n",
       "      <td>1719973</td>\n",
       "    </tr>\n",
       "    <tr>\n",
       "      <td>70891</td>\n",
       "      <td>196</td>\n",
       "      <td>3</td>\n",
       "      <td>23</td>\n",
       "      <td>10</td>\n",
       "      <td>7.666667</td>\n",
       "      <td>12.336</td>\n",
       "      <td>1.527</td>\n",
       "      <td>2.518</td>\n",
       "      <td>3.0</td>\n",
       "      <td>10.0</td>\n",
       "      <td>1</td>\n",
       "      <td>...</td>\n",
       "      <td>3.727</td>\n",
       "      <td>3.0</td>\n",
       "      <td>12.0</td>\n",
       "      <td>1</td>\n",
       "      <td>10</td>\n",
       "      <td>4</td>\n",
       "      <td>8</td>\n",
       "      <td>1.0</td>\n",
       "      <td>3787215</td>\n",
       "      <td>1719973</td>\n",
       "    </tr>\n",
       "    <tr>\n",
       "      <td>84382</td>\n",
       "      <td>196</td>\n",
       "      <td>35</td>\n",
       "      <td>274</td>\n",
       "      <td>88</td>\n",
       "      <td>7.828571</td>\n",
       "      <td>6.000</td>\n",
       "      <td>1.711</td>\n",
       "      <td>3.120</td>\n",
       "      <td>2.0</td>\n",
       "      <td>11.0</td>\n",
       "      <td>1</td>\n",
       "      <td>...</td>\n",
       "      <td>3.727</td>\n",
       "      <td>3.0</td>\n",
       "      <td>12.0</td>\n",
       "      <td>1</td>\n",
       "      <td>10</td>\n",
       "      <td>4</td>\n",
       "      <td>8</td>\n",
       "      <td>3.0</td>\n",
       "      <td>3787215</td>\n",
       "      <td>1719973</td>\n",
       "    </tr>\n",
       "    <tr>\n",
       "      <td>92575</td>\n",
       "      <td>196</td>\n",
       "      <td>7</td>\n",
       "      <td>36</td>\n",
       "      <td>18</td>\n",
       "      <td>5.142857</td>\n",
       "      <td>19.860</td>\n",
       "      <td>1.527</td>\n",
       "      <td>4.430</td>\n",
       "      <td>2.0</td>\n",
       "      <td>10.0</td>\n",
       "      <td>1</td>\n",
       "      <td>...</td>\n",
       "      <td>3.727</td>\n",
       "      <td>3.0</td>\n",
       "      <td>12.0</td>\n",
       "      <td>1</td>\n",
       "      <td>10</td>\n",
       "      <td>4</td>\n",
       "      <td>8</td>\n",
       "      <td>30.0</td>\n",
       "      <td>3787215</td>\n",
       "      <td>1719973</td>\n",
       "    </tr>\n",
       "  </tbody>\n",
       "</table>\n",
       "<p>10 rows × 44 columns</p>\n",
       "</div>"
      ],
      "text/plain": [
       "                    user_num_orders  user_num_prods  user_num_distinct_prods  \\\n",
       "user_id product_id                                                             \n",
       "8942    196                       4              56                       38   \n",
       "24280   196                      18              27                       14   \n",
       "34207   196                       3               5                        4   \n",
       "42970   196                       3              16                       12   \n",
       "60073   196                      35             365                      126   \n",
       "65187   196                      16              95                       26   \n",
       "70669   196                      48             519                      132   \n",
       "70891   196                       3              23                       10   \n",
       "84382   196                      35             274                       88   \n",
       "92575   196                       7              36                       18   \n",
       "\n",
       "                    user_avg_num_prods  user_avg_interval  user_dow_std  \\\n",
       "user_id product_id                                                        \n",
       "8942    196                  14.000000             21.250         1.414   \n",
       "24280   196                   1.500000             17.390         1.382   \n",
       "34207   196                   1.666667              3.000         1.000   \n",
       "42970   196                   5.333333             19.670         0.577   \n",
       "60073   196                  10.428571              9.800         2.693   \n",
       "65187   196                   5.937500             20.060         1.408   \n",
       "70669   196                  10.812500              6.105         2.184   \n",
       "70891   196                   7.666667             12.336         1.527   \n",
       "84382   196                   7.828571              6.000         1.711   \n",
       "92575   196                   5.142857             19.860         1.527   \n",
       "\n",
       "                    user_hour_std  user_dow_median  user_hour_median  \\\n",
       "user_id product_id                                                     \n",
       "8942    196                 4.360              3.5               9.5   \n",
       "24280   196                 2.635              2.0              13.0   \n",
       "34207   196                 2.518              3.0               9.0   \n",
       "42970   196                 7.023              5.0              16.0   \n",
       "60073   196                 4.668              1.0              17.0   \n",
       "65187   196                 2.834              3.0              11.0   \n",
       "70669   196                 3.088              3.0              13.0   \n",
       "70891   196                 2.518              3.0              10.0   \n",
       "84382   196                 3.120              2.0              11.0   \n",
       "92575   196                 4.430              2.0              10.0   \n",
       "\n",
       "                    user_dow_most  ...  prod_hour_std  prod_dow_median  \\\n",
       "user_id product_id                 ...                                   \n",
       "8942    196                     4  ...          3.727              3.0   \n",
       "24280   196                     2  ...          3.727              3.0   \n",
       "34207   196                     2  ...          3.727              3.0   \n",
       "42970   196                     5  ...          3.727              3.0   \n",
       "60073   196                     0  ...          3.727              3.0   \n",
       "65187   196                     2  ...          3.727              3.0   \n",
       "70669   196                     5  ...          3.727              3.0   \n",
       "70891   196                     1  ...          3.727              3.0   \n",
       "84382   196                     1  ...          3.727              3.0   \n",
       "92575   196                     1  ...          3.727              3.0   \n",
       "\n",
       "                    prod_hour_median  prod_dow_most  prod_hour_most  \\\n",
       "user_id product_id                                                    \n",
       "8942    196                     12.0              1              10   \n",
       "24280   196                     12.0              1              10   \n",
       "34207   196                     12.0              1              10   \n",
       "42970   196                     12.0              1              10   \n",
       "60073   196                     12.0              1              10   \n",
       "65187   196                     12.0              1              10   \n",
       "70669   196                     12.0              1              10   \n",
       "70891   196                     12.0              1              10   \n",
       "84382   196                     12.0              1              10   \n",
       "92575   196                     12.0              1              10   \n",
       "\n",
       "                    order_dow  order_hour_of_day  days_since_prior_order  \\\n",
       "user_id product_id                                                         \n",
       "8942    196                 4                  8                    30.0   \n",
       "24280   196                 4                  8                     2.0   \n",
       "34207   196                 4                  8                    21.0   \n",
       "42970   196                 4                  8                    30.0   \n",
       "60073   196                 4                  8                    11.0   \n",
       "65187   196                 4                  8                    30.0   \n",
       "70669   196                 4                  8                     2.0   \n",
       "70891   196                 4                  8                     1.0   \n",
       "84382   196                 4                  8                     3.0   \n",
       "92575   196                 4                  8                    30.0   \n",
       "\n",
       "                    t_dow_orders  t_hour_orders  \n",
       "user_id product_id                               \n",
       "8942    196              3787215        1719973  \n",
       "24280   196              3787215        1719973  \n",
       "34207   196              3787215        1719973  \n",
       "42970   196              3787215        1719973  \n",
       "60073   196              3787215        1719973  \n",
       "65187   196              3787215        1719973  \n",
       "70669   196              3787215        1719973  \n",
       "70891   196              3787215        1719973  \n",
       "84382   196              3787215        1719973  \n",
       "92575   196              3787215        1719973  \n",
       "\n",
       "[10 rows x 44 columns]"
      ]
     },
     "execution_count": 13,
     "metadata": {},
     "output_type": "execute_result"
    }
   ],
   "source": [
    "#test = pd.read_csv(\"gdrive/My Drive/Colab Notebooks/instacart/test.csv\")\n",
    "test = pd.read_csv(\"test.csv\")\n",
    "test = test.set_index(['user_id', 'product_id'])\n",
    "\n",
    "test.head(10)"
   ]
  },
  {
   "cell_type": "code",
   "execution_count": 14,
   "metadata": {
    "colab": {
     "base_uri": "https://localhost:8080/",
     "height": 35
    },
    "colab_type": "code",
    "executionInfo": {
     "elapsed": 45400,
     "status": "ok",
     "timestamp": 1571691779172,
     "user": {
      "displayName": "Liu Clover",
      "photoUrl": "",
      "userId": "01707038003287610841"
     },
     "user_tz": 240
    },
    "id": "g2aZzEmMWdOk",
    "outputId": "e2a44e5b-b865-40a0-b30a-11e3979d88a8"
   },
   "outputs": [
    {
     "data": {
      "text/plain": [
       "(4833292, 44)"
      ]
     },
     "execution_count": 14,
     "metadata": {},
     "output_type": "execute_result"
    }
   ],
   "source": [
    "test.shape"
   ]
  },
  {
   "cell_type": "code",
   "execution_count": 15,
   "metadata": {
    "colab": {
     "base_uri": "https://localhost:8080/",
     "height": 35
    },
    "colab_type": "code",
    "executionInfo": {
     "elapsed": 541578,
     "status": "ok",
     "timestamp": 1571692275360,
     "user": {
      "displayName": "Liu Clover",
      "photoUrl": "",
      "userId": "01707038003287610841"
     },
     "user_tz": 240
    },
    "id": "x_ZKK7W-mImi",
    "outputId": "aaf9d623-218a-45c0-e6d6-19d8f2b19166"
   },
   "outputs": [
    {
     "data": {
      "text/plain": [
       "array([1, 0, 1, ..., 0, 1, 0], dtype=int16)"
      ]
     },
     "execution_count": 15,
     "metadata": {},
     "output_type": "execute_result"
    }
   ],
   "source": [
    "xgtrain_1 = xgb.DMatrix(X, label = y)\n",
    "xgtest_1 = xgb.DMatrix(test)\n",
    "\n",
    "model = xgb.train(plst, xgtrain_1, num_rounds)\n",
    "\n",
    "y_pred_real = model.predict(xgtest_1)\n",
    "\n",
    "y_pred_real[y_pred_real >= cutoff] = 1\n",
    "y_pred_real[y_pred_real < cutoff] = 0\n",
    "\n",
    "y_pred_real = y_pred_real.astype(np.int16)\n",
    "y_pred_real"
   ]
  },
  {
   "cell_type": "code",
   "execution_count": 16,
   "metadata": {
    "colab": {
     "base_uri": "https://localhost:8080/",
     "height": 355
    },
    "colab_type": "code",
    "executionInfo": {
     "elapsed": 546787,
     "status": "ok",
     "timestamp": 1571692280576,
     "user": {
      "displayName": "Liu Clover",
      "photoUrl": "",
      "userId": "01707038003287610841"
     },
     "user_tz": 240
    },
    "id": "WNGspFaJmENp",
    "outputId": "245f954f-2e3d-40a0-8aab-b783700eee6f"
   },
   "outputs": [
    {
     "data": {
      "text/html": [
       "<div>\n",
       "<style scoped>\n",
       "    .dataframe tbody tr th:only-of-type {\n",
       "        vertical-align: middle;\n",
       "    }\n",
       "\n",
       "    .dataframe tbody tr th {\n",
       "        vertical-align: top;\n",
       "    }\n",
       "\n",
       "    .dataframe thead th {\n",
       "        text-align: right;\n",
       "    }\n",
       "</style>\n",
       "<table border=\"1\" class=\"dataframe\">\n",
       "  <thead>\n",
       "    <tr style=\"text-align: right;\">\n",
       "      <th></th>\n",
       "      <th>product_id</th>\n",
       "      <th>user_id</th>\n",
       "      <th>prediction</th>\n",
       "    </tr>\n",
       "  </thead>\n",
       "  <tbody>\n",
       "    <tr>\n",
       "      <td>0</td>\n",
       "      <td>196</td>\n",
       "      <td>8942</td>\n",
       "      <td>1</td>\n",
       "    </tr>\n",
       "    <tr>\n",
       "      <td>1</td>\n",
       "      <td>196</td>\n",
       "      <td>24280</td>\n",
       "      <td>0</td>\n",
       "    </tr>\n",
       "    <tr>\n",
       "      <td>2</td>\n",
       "      <td>196</td>\n",
       "      <td>34207</td>\n",
       "      <td>1</td>\n",
       "    </tr>\n",
       "    <tr>\n",
       "      <td>3</td>\n",
       "      <td>196</td>\n",
       "      <td>42970</td>\n",
       "      <td>1</td>\n",
       "    </tr>\n",
       "    <tr>\n",
       "      <td>4</td>\n",
       "      <td>196</td>\n",
       "      <td>60073</td>\n",
       "      <td>0</td>\n",
       "    </tr>\n",
       "    <tr>\n",
       "      <td>5</td>\n",
       "      <td>196</td>\n",
       "      <td>65187</td>\n",
       "      <td>0</td>\n",
       "    </tr>\n",
       "    <tr>\n",
       "      <td>6</td>\n",
       "      <td>196</td>\n",
       "      <td>70669</td>\n",
       "      <td>0</td>\n",
       "    </tr>\n",
       "    <tr>\n",
       "      <td>7</td>\n",
       "      <td>196</td>\n",
       "      <td>70891</td>\n",
       "      <td>1</td>\n",
       "    </tr>\n",
       "    <tr>\n",
       "      <td>8</td>\n",
       "      <td>196</td>\n",
       "      <td>84382</td>\n",
       "      <td>1</td>\n",
       "    </tr>\n",
       "    <tr>\n",
       "      <td>9</td>\n",
       "      <td>196</td>\n",
       "      <td>92575</td>\n",
       "      <td>1</td>\n",
       "    </tr>\n",
       "  </tbody>\n",
       "</table>\n",
       "</div>"
      ],
      "text/plain": [
       "   product_id  user_id  prediction\n",
       "0         196     8942           1\n",
       "1         196    24280           0\n",
       "2         196    34207           1\n",
       "3         196    42970           1\n",
       "4         196    60073           0\n",
       "5         196    65187           0\n",
       "6         196    70669           0\n",
       "7         196    70891           1\n",
       "8         196    84382           1\n",
       "9         196    92575           1"
      ]
     },
     "execution_count": 16,
     "metadata": {},
     "output_type": "execute_result"
    }
   ],
   "source": [
    "test = test.reset_index()\n",
    "test.head(10)\n",
    "df_result_temp = test[['product_id', 'user_id']]\n",
    "df_result_temp[\"prediction\"] = y_pred_real\n",
    "df_result_temp.head(10)"
   ]
  },
  {
   "cell_type": "code",
   "execution_count": 17,
   "metadata": {
    "colab": {
     "base_uri": "https://localhost:8080/",
     "height": 202
    },
    "colab_type": "code",
    "executionInfo": {
     "elapsed": 551468,
     "status": "ok",
     "timestamp": 1571692285265,
     "user": {
      "displayName": "Liu Clover",
      "photoUrl": "",
      "userId": "01707038003287610841"
     },
     "user_tz": 240
    },
    "id": "_fVMuKPLYRGm",
    "outputId": "8b26ec90-d0f3-4f2c-92a0-6066d9bd5566"
   },
   "outputs": [
    {
     "data": {
      "text/html": [
       "<div>\n",
       "<style scoped>\n",
       "    .dataframe tbody tr th:only-of-type {\n",
       "        vertical-align: middle;\n",
       "    }\n",
       "\n",
       "    .dataframe tbody tr th {\n",
       "        vertical-align: top;\n",
       "    }\n",
       "\n",
       "    .dataframe thead th {\n",
       "        text-align: right;\n",
       "    }\n",
       "</style>\n",
       "<table border=\"1\" class=\"dataframe\">\n",
       "  <thead>\n",
       "    <tr style=\"text-align: right;\">\n",
       "      <th></th>\n",
       "      <th>user_id</th>\n",
       "      <th>order_id</th>\n",
       "    </tr>\n",
       "  </thead>\n",
       "  <tbody>\n",
       "    <tr>\n",
       "      <td>38</td>\n",
       "      <td>3</td>\n",
       "      <td>2774568</td>\n",
       "    </tr>\n",
       "    <tr>\n",
       "      <td>44</td>\n",
       "      <td>4</td>\n",
       "      <td>329954</td>\n",
       "    </tr>\n",
       "    <tr>\n",
       "      <td>53</td>\n",
       "      <td>6</td>\n",
       "      <td>1528013</td>\n",
       "    </tr>\n",
       "    <tr>\n",
       "      <td>96</td>\n",
       "      <td>11</td>\n",
       "      <td>1376945</td>\n",
       "    </tr>\n",
       "    <tr>\n",
       "      <td>102</td>\n",
       "      <td>12</td>\n",
       "      <td>1356845</td>\n",
       "    </tr>\n",
       "  </tbody>\n",
       "</table>\n",
       "</div>"
      ],
      "text/plain": [
       "     user_id  order_id\n",
       "38         3   2774568\n",
       "44         4    329954\n",
       "53         6   1528013\n",
       "96        11   1376945\n",
       "102       12   1356845"
      ]
     },
     "execution_count": 17,
     "metadata": {},
     "output_type": "execute_result"
    }
   ],
   "source": [
    "#df_orders = pd.read_csv('gdrive/My Drive/Colab Notebooks/instacart/orders.csv')\n",
    "df_orders = pd.read_csv('orders.csv')\n",
    "df_test = df_orders.loc[df_orders.eval_set == 'test', ['user_id', 'order_id']]   # data for test\n",
    "df_test.head()"
   ]
  },
  {
   "cell_type": "code",
   "execution_count": 18,
   "metadata": {
    "colab": {
     "base_uri": "https://localhost:8080/",
     "height": 202
    },
    "colab_type": "code",
    "executionInfo": {
     "elapsed": 552340,
     "status": "ok",
     "timestamp": 1571692286143,
     "user": {
      "displayName": "Liu Clover",
      "photoUrl": "",
      "userId": "01707038003287610841"
     },
     "user_tz": 240
    },
    "id": "7J8DxEXNYxH9",
    "outputId": "a5907e67-7b80-42e9-9221-921d9a0340b6"
   },
   "outputs": [
    {
     "data": {
      "text/html": [
       "<div>\n",
       "<style scoped>\n",
       "    .dataframe tbody tr th:only-of-type {\n",
       "        vertical-align: middle;\n",
       "    }\n",
       "\n",
       "    .dataframe tbody tr th {\n",
       "        vertical-align: top;\n",
       "    }\n",
       "\n",
       "    .dataframe thead th {\n",
       "        text-align: right;\n",
       "    }\n",
       "</style>\n",
       "<table border=\"1\" class=\"dataframe\">\n",
       "  <thead>\n",
       "    <tr style=\"text-align: right;\">\n",
       "      <th></th>\n",
       "      <th>product_id</th>\n",
       "      <th>user_id</th>\n",
       "      <th>prediction</th>\n",
       "      <th>order_id</th>\n",
       "    </tr>\n",
       "  </thead>\n",
       "  <tbody>\n",
       "    <tr>\n",
       "      <td>0</td>\n",
       "      <td>196</td>\n",
       "      <td>8942</td>\n",
       "      <td>1</td>\n",
       "      <td>363822</td>\n",
       "    </tr>\n",
       "    <tr>\n",
       "      <td>1</td>\n",
       "      <td>196</td>\n",
       "      <td>24280</td>\n",
       "      <td>0</td>\n",
       "      <td>391840</td>\n",
       "    </tr>\n",
       "    <tr>\n",
       "      <td>2</td>\n",
       "      <td>196</td>\n",
       "      <td>34207</td>\n",
       "      <td>1</td>\n",
       "      <td>3254668</td>\n",
       "    </tr>\n",
       "    <tr>\n",
       "      <td>3</td>\n",
       "      <td>196</td>\n",
       "      <td>42970</td>\n",
       "      <td>1</td>\n",
       "      <td>3144266</td>\n",
       "    </tr>\n",
       "    <tr>\n",
       "      <td>4</td>\n",
       "      <td>196</td>\n",
       "      <td>60073</td>\n",
       "      <td>0</td>\n",
       "      <td>3233771</td>\n",
       "    </tr>\n",
       "  </tbody>\n",
       "</table>\n",
       "</div>"
      ],
      "text/plain": [
       "   product_id  user_id  prediction  order_id\n",
       "0         196     8942           1    363822\n",
       "1         196    24280           0    391840\n",
       "2         196    34207           1   3254668\n",
       "3         196    42970           1   3144266\n",
       "4         196    60073           0   3233771"
      ]
     },
     "execution_count": 18,
     "metadata": {},
     "output_type": "execute_result"
    }
   ],
   "source": [
    "df_result_temp = df_result_temp.merge(df_test, on = 'user_id', how = 'left')\n",
    "df_result_temp.to_csv(\"xgboostPrediction.csv\", index = False)\n",
    "df_result_temp.head()"
   ]
  },
  {
   "cell_type": "code",
   "execution_count": 19,
   "metadata": {
    "colab": {
     "base_uri": "https://localhost:8080/",
     "height": 202
    },
    "colab_type": "code",
    "executionInfo": {
     "elapsed": 552580,
     "status": "ok",
     "timestamp": 1571692286388,
     "user": {
      "displayName": "Liu Clover",
      "photoUrl": "",
      "userId": "01707038003287610841"
     },
     "user_tz": 240
    },
    "id": "k-OP7OfbZDtZ",
    "outputId": "efef3a10-b35a-4387-e7b3-85b95ed31a99"
   },
   "outputs": [
    {
     "data": {
      "text/html": [
       "<div>\n",
       "<style scoped>\n",
       "    .dataframe tbody tr th:only-of-type {\n",
       "        vertical-align: middle;\n",
       "    }\n",
       "\n",
       "    .dataframe tbody tr th {\n",
       "        vertical-align: top;\n",
       "    }\n",
       "\n",
       "    .dataframe thead th {\n",
       "        text-align: right;\n",
       "    }\n",
       "</style>\n",
       "<table border=\"1\" class=\"dataframe\">\n",
       "  <thead>\n",
       "    <tr style=\"text-align: right;\">\n",
       "      <th></th>\n",
       "      <th>product_id</th>\n",
       "      <th>user_id</th>\n",
       "      <th>prediction</th>\n",
       "      <th>order_id</th>\n",
       "    </tr>\n",
       "  </thead>\n",
       "  <tbody>\n",
       "    <tr>\n",
       "      <td>0</td>\n",
       "      <td>196</td>\n",
       "      <td>8942</td>\n",
       "      <td>1</td>\n",
       "      <td>363822</td>\n",
       "    </tr>\n",
       "    <tr>\n",
       "      <td>2</td>\n",
       "      <td>196</td>\n",
       "      <td>34207</td>\n",
       "      <td>1</td>\n",
       "      <td>3254668</td>\n",
       "    </tr>\n",
       "    <tr>\n",
       "      <td>3</td>\n",
       "      <td>196</td>\n",
       "      <td>42970</td>\n",
       "      <td>1</td>\n",
       "      <td>3144266</td>\n",
       "    </tr>\n",
       "    <tr>\n",
       "      <td>7</td>\n",
       "      <td>196</td>\n",
       "      <td>70891</td>\n",
       "      <td>1</td>\n",
       "      <td>2928615</td>\n",
       "    </tr>\n",
       "    <tr>\n",
       "      <td>8</td>\n",
       "      <td>196</td>\n",
       "      <td>84382</td>\n",
       "      <td>1</td>\n",
       "      <td>3253930</td>\n",
       "    </tr>\n",
       "  </tbody>\n",
       "</table>\n",
       "</div>"
      ],
      "text/plain": [
       "   product_id  user_id  prediction  order_id\n",
       "0         196     8942           1    363822\n",
       "2         196    34207           1   3254668\n",
       "3         196    42970           1   3144266\n",
       "7         196    70891           1   2928615\n",
       "8         196    84382           1   3253930"
      ]
     },
     "execution_count": 19,
     "metadata": {},
     "output_type": "execute_result"
    }
   ],
   "source": [
    "#df_result = df_result.drop('user_id', axis = 1)\n",
    "df_result_temp = df_result_temp.ix[df_result_temp[\"prediction\"].astype('int') == 1]   # filter out prediction = 1\n",
    "df_result_temp.head()"
   ]
  },
  {
   "cell_type": "code",
   "execution_count": 20,
   "metadata": {
    "colab": {
     "base_uri": "https://localhost:8080/",
     "height": 202
    },
    "colab_type": "code",
    "executionInfo": {
     "elapsed": 570623,
     "status": "ok",
     "timestamp": 1571692304439,
     "user": {
      "displayName": "Liu Clover",
      "photoUrl": "",
      "userId": "01707038003287610841"
     },
     "user_tz": 240
    },
    "id": "RJQlINlMZPi4",
    "outputId": "91bec907-3182-4c42-8040-f15aab695eb7"
   },
   "outputs": [
    {
     "data": {
      "text/html": [
       "<div>\n",
       "<style scoped>\n",
       "    .dataframe tbody tr th:only-of-type {\n",
       "        vertical-align: middle;\n",
       "    }\n",
       "\n",
       "    .dataframe tbody tr th {\n",
       "        vertical-align: top;\n",
       "    }\n",
       "\n",
       "    .dataframe thead th {\n",
       "        text-align: right;\n",
       "    }\n",
       "</style>\n",
       "<table border=\"1\" class=\"dataframe\">\n",
       "  <thead>\n",
       "    <tr style=\"text-align: right;\">\n",
       "      <th></th>\n",
       "      <th>order_id</th>\n",
       "      <th>products</th>\n",
       "    </tr>\n",
       "  </thead>\n",
       "  <tbody>\n",
       "    <tr>\n",
       "      <td>0</td>\n",
       "      <td>17</td>\n",
       "      <td>21709 47766 38777 21463 13107</td>\n",
       "    </tr>\n",
       "    <tr>\n",
       "      <td>1</td>\n",
       "      <td>34</td>\n",
       "      <td>13176 47766 47792 21137 48523 44632 43504 3918...</td>\n",
       "    </tr>\n",
       "    <tr>\n",
       "      <td>2</td>\n",
       "      <td>137</td>\n",
       "      <td>41787 24852 21903 29594 5134 38689 25890 2326 ...</td>\n",
       "    </tr>\n",
       "    <tr>\n",
       "      <td>3</td>\n",
       "      <td>182</td>\n",
       "      <td>47209 11520 39275 13629 47672 5479 33000 12456...</td>\n",
       "    </tr>\n",
       "    <tr>\n",
       "      <td>4</td>\n",
       "      <td>257</td>\n",
       "      <td>49235 24852 27966 37646 47766 21137 22035 1387...</td>\n",
       "    </tr>\n",
       "  </tbody>\n",
       "</table>\n",
       "</div>"
      ],
      "text/plain": [
       "   order_id                                           products\n",
       "0        17                      21709 47766 38777 21463 13107\n",
       "1        34  13176 47766 47792 21137 48523 44632 43504 3918...\n",
       "2       137  41787 24852 21903 29594 5134 38689 25890 2326 ...\n",
       "3       182  47209 11520 39275 13629 47672 5479 33000 12456...\n",
       "4       257  49235 24852 27966 37646 47766 21137 22035 1387..."
      ]
     },
     "execution_count": 20,
     "metadata": {},
     "output_type": "execute_result"
    }
   ],
   "source": [
    "def combine_products(x):\n",
    "    return \" \".join(list(x.astype('str')))\n",
    "  \n",
    "df_result = df_result_temp.groupby(\"order_id\")[\"product_id\"].aggregate(combine_products).reset_index()\n",
    "df_result.columns = [\"order_id\", \"products\"]\n",
    "df_result.head()"
   ]
  },
  {
   "cell_type": "code",
   "execution_count": 21,
   "metadata": {
    "colab": {
     "base_uri": "https://localhost:8080/",
     "height": 202
    },
    "colab_type": "code",
    "executionInfo": {
     "elapsed": 571252,
     "status": "ok",
     "timestamp": 1571692305078,
     "user": {
      "displayName": "Liu Clover",
      "photoUrl": "",
      "userId": "01707038003287610841"
     },
     "user_tz": 240
    },
    "id": "qsDN6j1HIcIo",
    "outputId": "ad1929e0-72c1-4e23-e08a-eacb00b0b734"
   },
   "outputs": [
    {
     "data": {
      "text/html": [
       "<div>\n",
       "<style scoped>\n",
       "    .dataframe tbody tr th:only-of-type {\n",
       "        vertical-align: middle;\n",
       "    }\n",
       "\n",
       "    .dataframe tbody tr th {\n",
       "        vertical-align: top;\n",
       "    }\n",
       "\n",
       "    .dataframe thead th {\n",
       "        text-align: right;\n",
       "    }\n",
       "</style>\n",
       "<table border=\"1\" class=\"dataframe\">\n",
       "  <thead>\n",
       "    <tr style=\"text-align: right;\">\n",
       "      <th></th>\n",
       "      <th>order_id</th>\n",
       "      <th>products</th>\n",
       "    </tr>\n",
       "  </thead>\n",
       "  <tbody>\n",
       "    <tr>\n",
       "      <td>0</td>\n",
       "      <td>17</td>\n",
       "      <td>21709 47766 38777 21463 13107</td>\n",
       "    </tr>\n",
       "    <tr>\n",
       "      <td>1</td>\n",
       "      <td>34</td>\n",
       "      <td>13176 47766 47792 21137 48523 44632 43504 3918...</td>\n",
       "    </tr>\n",
       "    <tr>\n",
       "      <td>2</td>\n",
       "      <td>137</td>\n",
       "      <td>41787 24852 21903 29594 5134 38689 25890 2326 ...</td>\n",
       "    </tr>\n",
       "    <tr>\n",
       "      <td>3</td>\n",
       "      <td>182</td>\n",
       "      <td>47209 11520 39275 13629 47672 5479 33000 12456...</td>\n",
       "    </tr>\n",
       "    <tr>\n",
       "      <td>4</td>\n",
       "      <td>257</td>\n",
       "      <td>49235 24852 27966 37646 47766 21137 22035 1387...</td>\n",
       "    </tr>\n",
       "  </tbody>\n",
       "</table>\n",
       "</div>"
      ],
      "text/plain": [
       "   order_id                                           products\n",
       "0        17                      21709 47766 38777 21463 13107\n",
       "1        34  13176 47766 47792 21137 48523 44632 43504 3918...\n",
       "2       137  41787 24852 21903 29594 5134 38689 25890 2326 ...\n",
       "3       182  47209 11520 39275 13629 47672 5479 33000 12456...\n",
       "4       257  49235 24852 27966 37646 47766 21137 22035 1387..."
      ]
     },
     "execution_count": 21,
     "metadata": {},
     "output_type": "execute_result"
    }
   ],
   "source": [
    "#df_sub = pd.read_csv(\"gdrive/My Drive/Colab Notebooks/instacart/sample_submission.csv\", usecols=[\"order_id\"])\n",
    "df_sub = pd.read_csv(\"sample_submission.csv\", usecols=[\"order_id\"])\n",
    "df_sub = pd.merge(df_sub, df_result, how = \"left\", on = \"order_id\")\n",
    "\n",
    "# use Na when there are no predictions \n",
    "df_sub[\"products\"].fillna(np.nan, inplace = True)\n",
    "\n",
    "#df_sub.to_csv(\"gdrive/My Drive/Colab Notebooks/instacart/df_sub.csv\", index = False)\n",
    "df_sub.to_csv(\"df_sub.csv\", index = False)\n",
    "df_sub.head()"
   ]
  },
  {
   "cell_type": "code",
   "execution_count": null,
   "metadata": {
    "colab": {},
    "colab_type": "code",
    "id": "p_SsgkTBgn1_"
   },
   "outputs": [],
   "source": []
  }
 ],
 "metadata": {
  "anaconda-cloud": {},
  "colab": {
   "collapsed_sections": [],
   "machine_shape": "hm",
   "name": "Capstone-DAEN690-xgboost.ipynb",
   "provenance": []
  },
  "kernelspec": {
   "display_name": "Python 3",
   "language": "python",
   "name": "python3"
  },
  "language_info": {
   "codemirror_mode": {
    "name": "ipython",
    "version": 3
   },
   "file_extension": ".py",
   "mimetype": "text/x-python",
   "name": "python",
   "nbconvert_exporter": "python",
   "pygments_lexer": "ipython3",
   "version": "3.7.4"
  }
 },
 "nbformat": 4,
 "nbformat_minor": 1
}
